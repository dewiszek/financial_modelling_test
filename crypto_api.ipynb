{
 "cells": [
  {
   "cell_type": "code",
   "execution_count": 1,
   "metadata": {},
   "outputs": [
    {
     "name": "stdout",
     "output_type": "stream",
     "text": [
      "{'bitcoin': {'usd': 58187}}\n"
     ]
    }
   ],
   "source": [
    "# file: crypto_data.py\n",
    "\n",
    "import requests\n",
    "\n",
    "COINGECKO_API_URL = \"https://api.coingecko.com/api/v3/simple/price\"\n",
    "\n",
    "def get_crypto_price(crypto_id: str, vs_currency: str = \"usd\"):\n",
    "    \"\"\"\n",
    "    Fetches the current price of a cryptocurrency from CoinGecko API.\n",
    "    :param crypto_id: Cryptocurrency ID (e.g., bitcoin, ethereum)\n",
    "    :param vs_currency: Currency to compare against (e.g., USD)\n",
    "    :return: Parsed JSON response containing crypto price data\n",
    "    \"\"\"\n",
    "    params = {\n",
    "        \"ids\": crypto_id,\n",
    "        \"vs_currencies\": vs_currency\n",
    "    }\n",
    "    \n",
    "    response = requests.get(COINGECKO_API_URL, params=params)\n",
    "    if response.status_code == 200:\n",
    "        data = response.json()\n",
    "        return data\n",
    "    else:\n",
    "        raise Exception(f\"Error fetching crypto data: {response.status_code}\")\n",
    "\n",
    "# Example usage\n",
    "crypto_data = get_crypto_price(\"bitcoin\")\n",
    "print(crypto_data)\n"
   ]
  }
 ],
 "metadata": {
  "kernelspec": {
   "display_name": "Python 3",
   "language": "python",
   "name": "python3"
  },
  "language_info": {
   "codemirror_mode": {
    "name": "ipython",
    "version": 3
   },
   "file_extension": ".py",
   "mimetype": "text/x-python",
   "name": "python",
   "nbconvert_exporter": "python",
   "pygments_lexer": "ipython3",
   "version": "3.12.5"
  }
 },
 "nbformat": 4,
 "nbformat_minor": 2
}
